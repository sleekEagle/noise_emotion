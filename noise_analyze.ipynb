{
 "cells": [
  {
   "cell_type": "code",
   "execution_count": 1,
   "metadata": {},
   "outputs": [
    {
     "name": "stderr",
     "output_type": "stream",
     "text": [
      "Using TensorFlow backend.\n"
     ]
    }
   ],
   "source": [
    "import math\n",
    "import keras\n",
    "from keras.models import Sequential,Model,load_model\n",
    "from keras.layers import Dense, Activation, Dropout, Flatten, Conv2D, MaxPooling2D,GlobalAveragePooling2D,Input,Multiply,RepeatVector,TimeDistributed,Add,Concatenate\n",
    "from keras.layers.normalization import BatchNormalization\n",
    "from keras import optimizers\n",
    "from keras.callbacks import ReduceLROnPlateau\n",
    "import numpy as np\n",
    "import random\n",
    "import pandas as pd\n",
    "import spectrogram\n",
    "import MGD\n",
    "import get_features\n",
    "import importlib\n",
    "import helper\n",
    "import FCNN\n",
    "import mix_noise\n",
    "importlib.reload(helper)\n",
    "importlib.reload(spectrogram)\n",
    "importlib.reload(get_features)\n",
    "importlib.reload(MGD)\n",
    "importlib.reload(FCNN)\n",
    "importlib.reload(mix_noise)\n",
    "import matplotlib.pyplot as plt\n",
    "import keras.backend as K\n",
    "from tensorflow import keras\n",
    "import json\n",
    "from sklearn.metrics import f1_score\n",
    "from keras.regularizers import l2"
   ]
  },
  {
   "cell_type": "code",
   "execution_count": 81,
   "metadata": {},
   "outputs": [
    {
     "name": "stderr",
     "output_type": "stream",
     "text": [
      "/home/lnw8px/.conda/envs/autokeras/lib/python3.6/site-packages/ipykernel/__main__.py:2: UserWarning: Update your `Model` call to the Keras 2 API: `Model(outputs=Tensor(\"ac..., inputs=Tensor(\"in...)`\n",
      "  from ipykernel import kernelapp as app\n"
     ]
    },
    {
     "data": {
      "text/plain": [
       "<matplotlib.image.AxesImage at 0x7f8b896ab5f8>"
      ]
     },
     "execution_count": 81,
     "metadata": {},
     "output_type": "execute_result"
    },
    {
     "data": {
      "image/png": "[encoded data removed]",
      "text/plain": [
       "<Figure size 1152x144 with 1 Axes>"
      ]
     },
     "metadata": {
      "needs_background": "light"
     },
     "output_type": "display_data"
    }
   ],
   "source": [
    "#observe attention\n",
    "att_model=Model(input=model.input,outputs=model.get_layer(\"activation_9\").output)\n",
    "attention=att_model.predict(data)\n",
    "attention=np.squeeze(attention)\n",
    "plt.matshow(attention)"
   ]
  },
  {
   "cell_type": "code",
   "execution_count": 7,
   "metadata": {},
   "outputs": [],
   "source": [
    "def get_means(data_list):\n",
    "    spec_mean_list=[]\n",
    "    MGD_mean_list=[]\n",
    "    for d in data_list:\n",
    "        data=d[0]\n",
    "        data=np.expand_dims(data,axis=-1)\n",
    "        data=np.expand_dims(data,axis=0)\n",
    "        #observe attention\n",
    "        att_model=Model(input=model.input,outputs=model.get_layer(\"activation_4\").output)\n",
    "        attention=att_model.predict(data)\n",
    "\n",
    "        half_point=int(attention.shape[2]/2)\n",
    "        spec_data=attention[0,:,0:half_point,0]\n",
    "        MGD_data=attention[0,:,half_point:-1,0]\n",
    "        spec_mean=np.mean(spec_data)\n",
    "        MGD_mean=np.mean(MGD_data)\n",
    "\n",
    "        spec_mean_list.append(spec_mean)\n",
    "        MGD_mean_list.append(MGD_mean)\n",
    "    spec_mean,MGD_mean=np.mean(np.array(spec_mean_list)),np.mean(np.array(MGD_mean_list))\n",
    "    return spec_mean,MGD_mean\n",
    "    "
   ]
  },
  {
   "cell_type": "code",
   "execution_count": 51,
   "metadata": {},
   "outputs": [],
   "source": [
    "import librosa\n",
    "import mix_noise\n",
    "importlib.reload(mix_noise)\n",
    "\n",
    "fft_len=25\n",
    "fft_hop=int(fft_len*10/40)\n",
    "height=int(200/40*fft_len)\n",
    "\n",
    "noise_files=['crickets','alarm','kettle','rain','steps','thunder','traffic','vacume','airconditioner']\n",
    "def get_white_noise_performance(model,data_df):\n",
    "    print('white noise....')\n",
    "    #appended acc,f1\n",
    "    res_list=[]\n",
    "    emo_breakdown_list=[]\n",
    "    for SNR in range(-40,30,5):\n",
    "        print('SNR='+str(SNR))\n",
    "        SNR=-1*SNR\n",
    "        if(SNR >= 40):\n",
    "            SNR=50000\n",
    "        noise_df=mix_noise.get_white_noise_dataframe(data_df,SNR=SNR)\n",
    "        noise_list=helper.get_comb2_data_list(noise_df,fft_len,fft_hop,height)\n",
    "        acc,f1,f1_list=helper.get_vali_acc(model,noise_list)\n",
    "        res_list.append([acc,f1])\n",
    "        emo_breakdown_list.append(f1_list)\n",
    "    return res_list,emo_breakdown_list\n",
    "\n",
    "def get_real_noise_performance(model,data_df,noise):\n",
    "    print(noise)\n",
    "    res_list=[]\n",
    "    emo_breakdown_list=[]\n",
    "    for SNR in range(-40,30,5):\n",
    "        print('SNR='+str(SNR))\n",
    "        SNR=-1*SNR\n",
    "        if(SNR >= 40):\n",
    "            SNR=50000\n",
    "        noise_df=mix_noise.get_real_noise_dataframe(data_df,noise,SNR)\n",
    "        noise_list=helper.get_comb2_data_list(noise_df,fft_len,fft_hop,height)\n",
    "        acc,f1,f1_list=helper.get_vali_acc(model,noise_list)\n",
    "        res_list.append([acc,f1])\n",
    "        emo_breakdown_list.append(f1_list)\n",
    "    return res_list,emo_breakdown_list\n",
    "\n"
   ]
  },
  {
   "cell_type": "code",
   "execution_count": 49,
   "metadata": {},
   "outputs": [
    {
     "name": "stdout",
     "output_type": "stream",
     "text": [
      "['06' '08' '03' '02' '05' '04']\n"
     ]
    }
   ],
   "source": [
    "#create RAVDESS data\n",
    "#get data from RAVDESS\n",
    "fft_len=25 \n",
    "fft_hop=int(fft_len*10/40)\n",
    "height=int(200/40*fft_len)\n",
    "\n",
    "random_df = pd.read_pickle('/scratch/lnw8px/RAVDESS_data/dataset_random.pkl')\n",
    "\n",
    "#use only strong intensity\n",
    "random_df=random_df[random_df['intensity']=='02']\n",
    "#drop some emotions\n",
    "random_df = random_df[(random_df['emotion']!='07')]\n",
    "uniques=random_df['emotion'].unique()\n",
    "#uniques=np.sort(uniques)\n",
    "print(uniques)\n",
    "for i in range(0,uniques.shape[0]):\n",
    "    #i+1 because the onehot thinks index starts with 1. \n",
    "    random_df.loc[random_df['emotion']==uniques[i],'emotion']=str(i+1)\n",
    "onehot=random_df['emotion'].apply(helper.to_onehot,args=(7,))\n",
    "random_df['label']=onehot    \n",
    "    \n",
    "\n",
    "break_index=int(random_df.shape[0]*0.8)\n",
    "train_df=random_df[0:break_index]\n",
    "vali_df=random_df[break_index:-1]"
   ]
  },
  {
   "cell_type": "code",
   "execution_count": null,
   "metadata": {},
   "outputs": [],
   "source": [
    "#evaluate performance uder variouse SNR of real noises and white nosie\n",
    "#for RAVDESS\n",
    "\n",
    "path='/scratch/lnw8px/results/RAVDESS/ignore_emo/no_1_7/'\n",
    "noise_results_file='/scratch/lnw8px/results/RAVDESS/ignore_emo/no_1_7/noise_results.txt'\n",
    "    \n",
    "model = load_model('/scratch/lnw8px/results/RAVDESS/ignore_emo/no_1_7/best_model.h5')\n",
    "print(model)\n",
    "\n",
    "#calculate performance under white nosie\n",
    "white_noise_res_list,emo_breakdown_list=get_white_noise_performance(model,vali_df)\n",
    "\n",
    "res='white_noise,' +str(white_noise_res_list)[1:-1] + '\\n'\n",
    "f = open(noise_results_file, \"a\")\n",
    "f.write(res)\n",
    "f.close()\n",
    "\n",
    "np.save(path+'white_noise',arr=np.array(emo_breakdown_list))\n",
    "\n",
    "#calculate performance under real worlds noises\n",
    "path='/scratch/lnw8px/noises/noises/'\n",
    "for noise_file in noise_files:\n",
    "    noise_path=path+noise_file+'.wav'\n",
    "    noise, sr = librosa.load(noise_path)\n",
    "    real_noise_res_list,emo_breakdown_list=get_real_noise_performance(model,vali_df,noise)\n",
    "    res=noise_file + \",\"+str(real_noise_res_list)[1:-1] + '\\n'\n",
    "    f = open(noise_results_file, \"a\")\n",
    "    f.write(res)\n",
    "    f.close()\n",
    "    np.save(path+noise_file,arr=np.array(emo_breakdown_list))\n"
   ]
  },
  {
   "cell_type": "code",
   "execution_count": null,
   "metadata": {},
   "outputs": [],
   "source": [
    "#For emo DB\n",
    "#evaluate performance uder variouse SNR of real noises and white nosie\n",
    "\n",
    "out_file='/scratch/lnw8px/results/emo_db_batch/noise_results.txt'\n",
    "model_path='/scratch/lnw8px/results/emo_db_batch/'\n",
    "\n",
    "for fold in range(0,10):\n",
    "    \n",
    "    #extract data from the fold and calculate features\n",
    "    train_df,vali_df=helper.get_fold(fold=fold)\n",
    "    \n",
    "    #load model\n",
    "    model_name=model_path+'fold_1_'+str(fold)+'.h5'\n",
    "    model = load_model(model_name)\n",
    "    print(model_name)\n",
    "    \n",
    "    #calculate performance under white nosie\n",
    "    white_noise_res_list,emo_breakdown_list=get_white_noise_performance(model,vali_df)    \n",
    "    res=str(fold) + ',white_noise,' +str(white_noise_res_list)[1:-1] + '\\n'\n",
    "    f = open(out_file, \"a\")\n",
    "    f.write(res)\n",
    "    f.close()\n",
    "    \n",
    "    np.save(model_path+str(fold)+'_white_noise',arr=np.array(emo_breakdown_list))\n",
    "\n",
    "\n",
    "    #calculate performance under real worlds noises\n",
    "    path='/scratch/lnw8px/noises/noises/'\n",
    "    for noise_file in noise_files:\n",
    "        noise_path=path+noise_file+'.wav'\n",
    "        noise, sr = librosa.load(noise_path)\n",
    "        real_noise_res_list,emo_breakdown_list=get_real_noise_performance(model,vali_df,noise)\n",
    "        res=str(fold) + ',' + noise_file + \",\"+str(real_noise_res_list)[1:-1] + '\\n'\n",
    "        f = open(out_file, \"a\")\n",
    "        f.write(res)\n",
    "        f.close()\n",
    "        \n",
    "        np.save(model_path+str(fold)+\"_\"+noise_file,arr=np.array(emo_breakdown_list))"
   ]
  }
 ],
 "metadata": {
  "kernelspec": {
   "display_name": "AutoKeras 1.0",
   "language": "python",
   "name": "autokeras"
  },
  "language_info": {
   "codemirror_mode": {
    "name": "ipython",
    "version": 3
   },
   "file_extension": ".py",
   "mimetype": "text/x-python",
   "name": "python",
   "nbconvert_exporter": "python",
   "pygments_lexer": "ipython3",
   "version": "3.6.10"
  }
 },
 "nbformat": 4,
 "nbformat_minor": 4
}
